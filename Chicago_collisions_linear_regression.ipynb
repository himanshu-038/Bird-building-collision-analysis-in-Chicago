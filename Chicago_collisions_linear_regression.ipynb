{
 "cells": [
  {
   "cell_type": "code",
   "execution_count": 65,
   "id": "b4169fac",
   "metadata": {},
   "outputs": [],
   "source": [
    "import pandas as pd\n",
    "import matplotlib.pyplot as plt\n",
    "import numpy as np\n",
    "from scipy.stats import linregress"
   ]
  },
  {
   "cell_type": "code",
   "execution_count": null,
   "id": "f861d451",
   "metadata": {},
   "outputs": [],
   "source": [
    "#import csv files in pandas dataframes\n",
    "chicago_collision = pd.read_csv("Chicago_collision_data.csv")"
   ]
  },
  {
   "cell_type": "code",
   "execution_count": 11,
   "id": "0d33e0f8",
   "metadata": {},
   "outputs": [
    {
     "name": "stdout",
     "output_type": "stream",
     "text": [
      "        Genus  Species        Date Locality\n",
      "0  Ammodramus  nelsoni  1982-10-03       MP\n",
      "1  Ammodramus  nelsoni  1984-05-21      CHI\n",
      "2  Ammodramus  nelsoni  1984-05-25       MP\n",
      "3  Ammodramus  nelsoni  1985-10-08       MP\n",
      "4  Ammodramus  nelsoni  1986-09-10       MP\n",
      "        Genus     Species      Date\n",
      "0  Ammodramus  savannarum   10/6/17\n",
      "1  Ammodramus  savannarum  10/10/17\n",
      "2  Ammodramus  savannarum  10/26/17\n",
      "3  Ammodramus  savannarum   5/10/18\n",
      "4  Cardellina  canadensis   9/20/17\n",
      "         Date  Light_Score\n",
      "0  2000-03-06            3\n",
      "1  2000-03-08           15\n",
      "2  2000-03-10            3\n",
      "3  2000-03-31            3\n",
      "4  2000-04-02           17\n"
     ]
    }
   ],
   "source": [
    "#Print first 5 rows from each table\n",
    "print(chicago_collision.head())"
   ]
  },
  {
   "cell_type": "code",
   "execution_count": 15,
   "id": "9b701a66",
   "metadata": {},
   "outputs": [],
   "source": [
    "genus_collisions = chicago_collision[\"Genus\"].value_counts()"
   ]
  },
  {
   "cell_type": "code",
   "execution_count": 90,
   "id": "fc6980f4",
   "metadata": {},
   "outputs": [
    {
     "name": "stdout",
     "output_type": "stream",
     "text": [
      "2016-11-30\n",
      "1978-09-15\n"
     ]
    },
    {
     "ename": "AttributeError",
     "evalue": "'Series' object has no attribute 'range'",
     "output_type": "error",
     "traceback": [
      "\u001b[1;31m---------------------------------------------------------------------------\u001b[0m",
      "\u001b[1;31mAttributeError\u001b[0m                            Traceback (most recent call last)",
      "\u001b[1;32m~\\AppData\\Local\\Temp/ipykernel_1080/1716826205.py\u001b[0m in \u001b[0;36m<module>\u001b[1;34m\u001b[0m\n\u001b[0;32m      1\u001b[0m \u001b[0mprint\u001b[0m\u001b[1;33m(\u001b[0m\u001b[0mchicago_collision\u001b[0m\u001b[1;33m[\u001b[0m\u001b[1;34m\"Date\"\u001b[0m\u001b[1;33m]\u001b[0m\u001b[1;33m.\u001b[0m\u001b[0mmax\u001b[0m\u001b[1;33m(\u001b[0m\u001b[1;33m)\u001b[0m\u001b[1;33m)\u001b[0m\u001b[1;33m\u001b[0m\u001b[1;33m\u001b[0m\u001b[0m\n\u001b[0;32m      2\u001b[0m \u001b[0mprint\u001b[0m\u001b[1;33m(\u001b[0m\u001b[0mchicago_collision\u001b[0m\u001b[1;33m[\u001b[0m\u001b[1;34m\"Date\"\u001b[0m\u001b[1;33m]\u001b[0m\u001b[1;33m.\u001b[0m\u001b[0mmin\u001b[0m\u001b[1;33m(\u001b[0m\u001b[1;33m)\u001b[0m\u001b[1;33m)\u001b[0m\u001b[1;33m\u001b[0m\u001b[1;33m\u001b[0m\u001b[0m\n\u001b[1;32m----> 3\u001b[1;33m \u001b[0mprint\u001b[0m\u001b[1;33m(\u001b[0m\u001b[0mchicago_collision\u001b[0m\u001b[1;33m[\u001b[0m\u001b[1;34m\"Date\"\u001b[0m\u001b[1;33m]\u001b[0m\u001b[1;33m.\u001b[0m\u001b[0mrange\u001b[0m\u001b[1;33m(\u001b[0m\u001b[1;33m)\u001b[0m\u001b[1;33m)\u001b[0m\u001b[1;33m\u001b[0m\u001b[1;33m\u001b[0m\u001b[0m\n\u001b[0m",
      "\u001b[1;32mC:\\Anaconda\\lib\\site-packages\\pandas\\core\\generic.py\u001b[0m in \u001b[0;36m__getattr__\u001b[1;34m(self, name)\u001b[0m\n\u001b[0;32m   5485\u001b[0m         ):\n\u001b[0;32m   5486\u001b[0m             \u001b[1;32mreturn\u001b[0m \u001b[0mself\u001b[0m\u001b[1;33m[\u001b[0m\u001b[0mname\u001b[0m\u001b[1;33m]\u001b[0m\u001b[1;33m\u001b[0m\u001b[1;33m\u001b[0m\u001b[0m\n\u001b[1;32m-> 5487\u001b[1;33m         \u001b[1;32mreturn\u001b[0m \u001b[0mobject\u001b[0m\u001b[1;33m.\u001b[0m\u001b[0m__getattribute__\u001b[0m\u001b[1;33m(\u001b[0m\u001b[0mself\u001b[0m\u001b[1;33m,\u001b[0m \u001b[0mname\u001b[0m\u001b[1;33m)\u001b[0m\u001b[1;33m\u001b[0m\u001b[1;33m\u001b[0m\u001b[0m\n\u001b[0m\u001b[0;32m   5488\u001b[0m \u001b[1;33m\u001b[0m\u001b[0m\n\u001b[0;32m   5489\u001b[0m     \u001b[1;32mdef\u001b[0m \u001b[0m__setattr__\u001b[0m\u001b[1;33m(\u001b[0m\u001b[0mself\u001b[0m\u001b[1;33m,\u001b[0m \u001b[0mname\u001b[0m\u001b[1;33m:\u001b[0m \u001b[0mstr\u001b[0m\u001b[1;33m,\u001b[0m \u001b[0mvalue\u001b[0m\u001b[1;33m)\u001b[0m \u001b[1;33m->\u001b[0m \u001b[1;32mNone\u001b[0m\u001b[1;33m:\u001b[0m\u001b[1;33m\u001b[0m\u001b[1;33m\u001b[0m\u001b[0m\n",
      "\u001b[1;31mAttributeError\u001b[0m: 'Series' object has no attribute 'range'"
     ]
    }
   ],
   "source": [
    "print(chicago_collision[\"Date\"].max())\n",
    "print(chicago_collision[\"Date\"].min()) "
   ]
  },
  {
   "cell_type": "code",
   "execution_count": 32,
   "id": "e46db731",
   "metadata": {},
   "outputs": [],
   "source": [
    "#Adding year column\n",
    "chicago_collision[\"year\"] = pd.DatetimeIndex(chicago_collision['Date']).year"
   ]
  },
  {
   "cell_type": "code",
   "execution_count": 34,
   "id": "b8b46cb5",
   "metadata": {},
   "outputs": [
    {
     "data": {
      "text/html": [
       "<div>\n",
       "<style scoped>\n",
       "    .dataframe tbody tr th:only-of-type {\n",
       "        vertical-align: middle;\n",
       "    }\n",
       "\n",
       "    .dataframe tbody tr th {\n",
       "        vertical-align: top;\n",
       "    }\n",
       "\n",
       "    .dataframe thead th {\n",
       "        text-align: right;\n",
       "    }\n",
       "</style>\n",
       "<table border=\"1\" class=\"dataframe\">\n",
       "  <thead>\n",
       "    <tr style=\"text-align: right;\">\n",
       "      <th></th>\n",
       "      <th>Genus</th>\n",
       "      <th>Species</th>\n",
       "      <th>Date</th>\n",
       "      <th>Locality</th>\n",
       "      <th>year</th>\n",
       "    </tr>\n",
       "  </thead>\n",
       "  <tbody>\n",
       "    <tr>\n",
       "      <th>0</th>\n",
       "      <td>Ammodramus</td>\n",
       "      <td>nelsoni</td>\n",
       "      <td>1982-10-03</td>\n",
       "      <td>MP</td>\n",
       "      <td>1982</td>\n",
       "    </tr>\n",
       "    <tr>\n",
       "      <th>1</th>\n",
       "      <td>Ammodramus</td>\n",
       "      <td>nelsoni</td>\n",
       "      <td>1984-05-21</td>\n",
       "      <td>CHI</td>\n",
       "      <td>1984</td>\n",
       "    </tr>\n",
       "    <tr>\n",
       "      <th>2</th>\n",
       "      <td>Ammodramus</td>\n",
       "      <td>nelsoni</td>\n",
       "      <td>1984-05-25</td>\n",
       "      <td>MP</td>\n",
       "      <td>1984</td>\n",
       "    </tr>\n",
       "    <tr>\n",
       "      <th>3</th>\n",
       "      <td>Ammodramus</td>\n",
       "      <td>nelsoni</td>\n",
       "      <td>1985-10-08</td>\n",
       "      <td>MP</td>\n",
       "      <td>1985</td>\n",
       "    </tr>\n",
       "    <tr>\n",
       "      <th>4</th>\n",
       "      <td>Ammodramus</td>\n",
       "      <td>nelsoni</td>\n",
       "      <td>1986-09-10</td>\n",
       "      <td>MP</td>\n",
       "      <td>1986</td>\n",
       "    </tr>\n",
       "  </tbody>\n",
       "</table>\n",
       "</div>"
      ],
      "text/plain": [
       "        Genus  Species        Date Locality  year\n",
       "0  Ammodramus  nelsoni  1982-10-03       MP  1982\n",
       "1  Ammodramus  nelsoni  1984-05-21      CHI  1984\n",
       "2  Ammodramus  nelsoni  1984-05-25       MP  1984\n",
       "3  Ammodramus  nelsoni  1985-10-08       MP  1985\n",
       "4  Ammodramus  nelsoni  1986-09-10       MP  1986"
      ]
     },
     "execution_count": 34,
     "metadata": {},
     "output_type": "execute_result"
    }
   ],
   "source": [
    "chicago_collision.head()"
   ]
  },
  {
   "cell_type": "code",
   "execution_count": 96,
   "id": "84f91f52",
   "metadata": {},
   "outputs": [
    {
     "data": {
      "image/png": "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\n",
      "text/plain": [
       "<Figure size 432x288 with 1 Axes>"
      ]
     },
     "metadata": {},
     "output_type": "display_data"
    }
   ],
   "source": [
    "#Scatterplot of the number of collisions in Chicago by year\n",
    "chicago_yearly_collisions = chicago_collision[\"year\"].value_counts()\n",
    "chicago_yearly_collisions.plot(style='o')\n",
    "plt.style.use(\"grayscale\")\n",
    "plt.xlabel(\"Year\")\n",
    "plt.ylabel(\"number of collisions in Chicago\")\n",
    "plt.title(\"Collisions Vs Year\")\n",
    "plt.show()"
   ]
  },
  {
   "cell_type": "code",
   "execution_count": 87,
   "id": "fdd29ed0",
   "metadata": {},
   "outputs": [
    {
     "name": "stdout",
     "output_type": "stream",
     "text": [
      "LinregressResult(slope=67.7825910931174, intercept=-133572.5010796221, rvalue=0.7333226790048714, pvalue=1.0977506888588125e-07, stderr=10.331299209195937, intercept_stderr=20631.93216744485)\n"
     ]
    }
   ],
   "source": [
    "#creating dataframe of bird collisions in chicago per year from chicago_yearly_collisions series\n",
    "chicago_yr_collision_df=pd.DataFrame({'year':chicago_yearly_collisions.index, 'collision_count':chicago_yearly_collisions.values})\n",
    "#sorting by year\n",
    "chicago_yr_collision_df_sorted = chicago_yr_collision_df.sort_values(by=\"year\")\n",
    "#resetting index values\n",
    "chicago_yr_collision_df_sorted.reset_index(drop=True,inplace=True)"
   ]
  },
  {
   "cell_type": "code",
   "execution_count": null,
   "id": "60db21b0",
   "metadata": {},
   "outputs": [],
   "source": [
    "#Linear regression of number of collisions over years\n",
    "xs = chicago_yr_collision_df_sorted[\"year\"]\n",
    "ys = chicago_yr_collision_df_sorted[\"collision_count\"]\n",
    "res = linregress(xs,ys)\n",
    "print(res)"
   ]
  },
  {
   "cell_type": "code",
   "execution_count": 89,
   "id": "a9700f8e",
   "metadata": {},
   "outputs": [
    {
     "data": {
      "image/png": "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\n",
      "text/plain": [
       "<Figure size 432x288 with 1 Axes>"
      ]
     },
     "metadata": {
      "needs_background": "light"
     },
     "output_type": "display_data"
    }
   ],
   "source": [
    "# Line of best fit\n",
    "plt.plot(xs,ys,'o')\n",
    "fx = np.array([xs.min(),xs.max()])\n",
    "fy = fx * res.slope + res.intercept\n",
    "plt.plot(fx,fy,'-')\n",
    "plt.xlabel(\"Year\")\n",
    "plt.ylabel(\"Number of collisions\")\n",
    "plt.show()"
   ]
  },
  {
   "cell_type": "code",
   "execution_count": null,
   "id": "cd9f3199",
   "metadata": {},
   "outputs": [],
   "source": []
  }
 ],
 "metadata": {
  "kernelspec": {
   "display_name": "Python 3 (ipykernel)",
   "language": "python",
   "name": "python3"
  },
  "language_info": {
   "codemirror_mode": {
    "name": "ipython",
    "version": 3
   },
   "file_extension": ".py",
   "mimetype": "text/x-python",
   "name": "python",
   "nbconvert_exporter": "python",
   "pygments_lexer": "ipython3",
   "version": "3.9.7"
  }
 },
 "nbformat": 4,
 "nbformat_minor": 5
}
