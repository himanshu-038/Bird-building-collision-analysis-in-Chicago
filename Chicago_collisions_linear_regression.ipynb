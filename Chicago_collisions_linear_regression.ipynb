{
 "cells": [
  {
   "cell_type": "code",
   "execution_count": 1,
   "id": "b4169fac",
   "metadata": {},
   "outputs": [],
   "source": [
    "import pandas as pd\n",
    "import matplotlib.pyplot as plt\n",
    "import numpy as np\n",
    "from scipy.stats import linregress"
   ]
  },
  {
   "cell_type": "code",
   "execution_count": 2,
   "id": "f861d451",
   "metadata": {},
   "outputs": [],
   "source": [
    "#import csv files in pandas dataframes\n",
    "chicago_collision = pd.read_csv(\"Bird_building_collisions\\Chicago_collision_data.csv\")"
   ]
  },
  {
   "cell_type": "code",
   "execution_count": 3,
   "id": "0d33e0f8",
   "metadata": {},
   "outputs": [
    {
     "name": "stdout",
     "output_type": "stream",
     "text": [
      "        Genus  Species        Date Locality\n",
      "0  Ammodramus  nelsoni  1982-10-03       MP\n",
      "1  Ammodramus  nelsoni  1984-05-21      CHI\n",
      "2  Ammodramus  nelsoni  1984-05-25       MP\n",
      "3  Ammodramus  nelsoni  1985-10-08       MP\n",
      "4  Ammodramus  nelsoni  1986-09-10       MP\n"
     ]
    }
   ],
   "source": [
    "#Print first 5 rows from each table\n",
    "print(chicago_collision.head())"
   ]
  },
  {
   "cell_type": "code",
   "execution_count": 4,
   "id": "9b701a66",
   "metadata": {},
   "outputs": [],
   "source": [
    "genus_collisions = chicago_collision[\"Genus\"].value_counts()"
   ]
  },
  {
   "cell_type": "code",
   "execution_count": 5,
   "id": "fc6980f4",
   "metadata": {},
   "outputs": [
    {
     "name": "stdout",
     "output_type": "stream",
     "text": [
      "2016-11-30\n",
      "1978-09-15\n"
     ]
    }
   ],
   "source": [
    "print(chicago_collision[\"Date\"].max())\n",
    "print(chicago_collision[\"Date\"].min()) "
   ]
  },
  {
   "cell_type": "code",
   "execution_count": 6,
   "id": "e46db731",
   "metadata": {},
   "outputs": [],
   "source": [
    "#Adding year column\n",
    "chicago_collision[\"year\"] = pd.DatetimeIndex(chicago_collision['Date']).year"
   ]
  },
  {
   "cell_type": "code",
   "execution_count": 7,
   "id": "b8b46cb5",
   "metadata": {},
   "outputs": [
    {
     "data": {
      "text/html": [
       "<div>\n",
       "<style scoped>\n",
       "    .dataframe tbody tr th:only-of-type {\n",
       "        vertical-align: middle;\n",
       "    }\n",
       "\n",
       "    .dataframe tbody tr th {\n",
       "        vertical-align: top;\n",
       "    }\n",
       "\n",
       "    .dataframe thead th {\n",
       "        text-align: right;\n",
       "    }\n",
       "</style>\n",
       "<table border=\"1\" class=\"dataframe\">\n",
       "  <thead>\n",
       "    <tr style=\"text-align: right;\">\n",
       "      <th></th>\n",
       "      <th>Genus</th>\n",
       "      <th>Species</th>\n",
       "      <th>Date</th>\n",
       "      <th>Locality</th>\n",
       "      <th>year</th>\n",
       "    </tr>\n",
       "  </thead>\n",
       "  <tbody>\n",
       "    <tr>\n",
       "      <th>0</th>\n",
       "      <td>Ammodramus</td>\n",
       "      <td>nelsoni</td>\n",
       "      <td>1982-10-03</td>\n",
       "      <td>MP</td>\n",
       "      <td>1982</td>\n",
       "    </tr>\n",
       "    <tr>\n",
       "      <th>1</th>\n",
       "      <td>Ammodramus</td>\n",
       "      <td>nelsoni</td>\n",
       "      <td>1984-05-21</td>\n",
       "      <td>CHI</td>\n",
       "      <td>1984</td>\n",
       "    </tr>\n",
       "    <tr>\n",
       "      <th>2</th>\n",
       "      <td>Ammodramus</td>\n",
       "      <td>nelsoni</td>\n",
       "      <td>1984-05-25</td>\n",
       "      <td>MP</td>\n",
       "      <td>1984</td>\n",
       "    </tr>\n",
       "    <tr>\n",
       "      <th>3</th>\n",
       "      <td>Ammodramus</td>\n",
       "      <td>nelsoni</td>\n",
       "      <td>1985-10-08</td>\n",
       "      <td>MP</td>\n",
       "      <td>1985</td>\n",
       "    </tr>\n",
       "    <tr>\n",
       "      <th>4</th>\n",
       "      <td>Ammodramus</td>\n",
       "      <td>nelsoni</td>\n",
       "      <td>1986-09-10</td>\n",
       "      <td>MP</td>\n",
       "      <td>1986</td>\n",
       "    </tr>\n",
       "  </tbody>\n",
       "</table>\n",
       "</div>"
      ],
      "text/plain": [
       "        Genus  Species        Date Locality  year\n",
       "0  Ammodramus  nelsoni  1982-10-03       MP  1982\n",
       "1  Ammodramus  nelsoni  1984-05-21      CHI  1984\n",
       "2  Ammodramus  nelsoni  1984-05-25       MP  1984\n",
       "3  Ammodramus  nelsoni  1985-10-08       MP  1985\n",
       "4  Ammodramus  nelsoni  1986-09-10       MP  1986"
      ]
     },
     "execution_count": 7,
     "metadata": {},
     "output_type": "execute_result"
    }
   ],
   "source": [
    "chicago_collision.head()"
   ]
  },
  {
   "cell_type": "code",
   "execution_count": 8,
   "id": "84f91f52",
   "metadata": {},
   "outputs": [
    {
     "data": {
      "image/png": "[encoded data removed]",
      "text/plain": [
       "<Figure size 432x288 with 1 Axes>"
      ]
     },
     "metadata": {
      "needs_background": "light"
     },
     "output_type": "display_data"
    }
   ],
   "source": [
    "#Scatterplot of the number of collisions in Chicago by year\n",
    "chicago_yearly_collisions = chicago_collision[\"year\"].value_counts()\n",
    "chicago_yearly_collisions.plot(style='o')\n",
    "plt.style.use(\"grayscale\")\n",
    "plt.xlabel(\"Year\")\n",
    "plt.ylabel(\"number of collisions in Chicago\")\n",
    "plt.title(\"Collisions Vs Year\")\n",
    "plt.show()"
   ]
  },
  {
   "cell_type": "code",
   "execution_count": 9,
   "id": "fdd29ed0",
   "metadata": {},
   "outputs": [],
   "source": [
    "#creating dataframe of bird collisions in chicago per year from chicago_yearly_collisions series\n",
    "chicago_yr_collision_df=pd.DataFrame({'year':chicago_yearly_collisions.index, 'collision_count':chicago_yearly_collisions.values})\n",
    "#sorting by year\n",
    "chicago_yr_collision_df_sorted = chicago_yr_collision_df.sort_values(by=\"year\")\n",
    "#resetting index values\n",
    "chicago_yr_collision_df_sorted.reset_index(drop=True,inplace=True)"
   ]
  },
  {
   "cell_type": "code",
   "execution_count": 10,
   "id": "60db21b0",
   "metadata": {},
   "outputs": [
    {
     "name": "stdout",
     "output_type": "stream",
     "text": [
      "LinregressResult(slope=67.7825910931174, intercept=-133572.5010796221, rvalue=0.7333226790048714, pvalue=1.0977506888588125e-07, stderr=10.331299209195937, intercept_stderr=20631.93216744485)\n"
     ]
    }
   ],
   "source": [
    "#Linear regression of number of collisions over years\n",
    "xs = chicago_yr_collision_df_sorted[\"year\"]\n",
    "ys = chicago_yr_collision_df_sorted[\"collision_count\"]\n",
    "res = linregress(xs,ys)\n",
    "print(res)"
   ]
  },
  {
   "cell_type": "code",
   "execution_count": 11,
   "id": "a9700f8e",
   "metadata": {},
   "outputs": [
    {
     "data": {
      "image/png": "[encoded data removed]",
      "text/plain": [
       "<Figure size 432x288 with 1 Axes>"
      ]
     },
     "metadata": {},
     "output_type": "display_data"
    }
   ],
   "source": [
    "# Line of best fit\n",
    "plt.plot(xs,ys,'o')\n",
    "fx = np.array([xs.min(),xs.max()])\n",
    "fy = fx * res.slope + res.intercept\n",
    "plt.plot(fx,fy,'-')\n",
    "plt.xlabel(\"Year\")\n",
    "plt.ylabel(\"Number of collisions\")\n",
    "plt.show()"
   ]
  },
  {
   "cell_type": "code",
   "execution_count": null,
   "id": "cd9f3199",
   "metadata": {},
   "outputs": [],
   "source": []
  }
 ],
 "metadata": {
  "kernelspec": {
   "display_name": "Python 3 (ipykernel)",
   "language": "python",
   "name": "python3"
  },
  "language_info": {
   "codemirror_mode": {
    "name": "ipython",
    "version": 3
   },
   "file_extension": ".py",
   "mimetype": "text/x-python",
   "name": "python",
   "nbconvert_exporter": "python",
   "pygments_lexer": "ipython3",
   "version": "3.9.7"
  }
 },
 "nbformat": 4,
 "nbformat_minor": 5
}
